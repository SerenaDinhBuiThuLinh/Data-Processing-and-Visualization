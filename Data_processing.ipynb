{
 "cells": [
  {
   "cell_type": "code",
   "execution_count": 2,
   "metadata": {},
   "outputs": [
    {
     "data": {
      "text/html": [
       "<div>\n",
       "<style scoped>\n",
       "    .dataframe tbody tr th:only-of-type {\n",
       "        vertical-align: middle;\n",
       "    }\n",
       "\n",
       "    .dataframe tbody tr th {\n",
       "        vertical-align: top;\n",
       "    }\n",
       "\n",
       "    .dataframe thead th {\n",
       "        text-align: right;\n",
       "    }\n",
       "</style>\n",
       "<table border=\"1\" class=\"dataframe\">\n",
       "  <thead>\n",
       "    <tr style=\"text-align: right;\">\n",
       "      <th></th>\n",
       "      <th>Daily Time Spent on Site</th>\n",
       "      <th>Age</th>\n",
       "      <th>Area Income</th>\n",
       "      <th>Daily Internet Usage</th>\n",
       "      <th>Ad Topic Line</th>\n",
       "      <th>City</th>\n",
       "      <th>Gender</th>\n",
       "      <th>Country</th>\n",
       "      <th>Timestamp</th>\n",
       "      <th>Clicked on Ad</th>\n",
       "    </tr>\n",
       "  </thead>\n",
       "  <tbody>\n",
       "    <tr>\n",
       "      <th>0</th>\n",
       "      <td>62.26</td>\n",
       "      <td>32.0</td>\n",
       "      <td>69481.85</td>\n",
       "      <td>172.83</td>\n",
       "      <td>Decentralized real-time circuit</td>\n",
       "      <td>Lisafort</td>\n",
       "      <td>Male</td>\n",
       "      <td>Svalbard &amp; Jan Mayen Islands</td>\n",
       "      <td>2016-06-09 21:43:05</td>\n",
       "      <td>0</td>\n",
       "    </tr>\n",
       "    <tr>\n",
       "      <th>1</th>\n",
       "      <td>41.73</td>\n",
       "      <td>31.0</td>\n",
       "      <td>61840.26</td>\n",
       "      <td>207.17</td>\n",
       "      <td>Optional full-range projection</td>\n",
       "      <td>West Angelabury</td>\n",
       "      <td>Male</td>\n",
       "      <td>Singapore</td>\n",
       "      <td>2016-01-16 17:56:05</td>\n",
       "      <td>0</td>\n",
       "    </tr>\n",
       "    <tr>\n",
       "      <th>2</th>\n",
       "      <td>44.40</td>\n",
       "      <td>30.0</td>\n",
       "      <td>57877.15</td>\n",
       "      <td>172.83</td>\n",
       "      <td>Total 5thgeneration standardization</td>\n",
       "      <td>Reyesfurt</td>\n",
       "      <td>Female</td>\n",
       "      <td>Guadeloupe</td>\n",
       "      <td>2016-06-29 10:50:45</td>\n",
       "      <td>0</td>\n",
       "    </tr>\n",
       "    <tr>\n",
       "      <th>3</th>\n",
       "      <td>59.88</td>\n",
       "      <td>28.0</td>\n",
       "      <td>56180.93</td>\n",
       "      <td>207.17</td>\n",
       "      <td>Balanced empowering success</td>\n",
       "      <td>New Michael</td>\n",
       "      <td>Female</td>\n",
       "      <td>Zambia</td>\n",
       "      <td>2016-06-21 14:32:32</td>\n",
       "      <td>0</td>\n",
       "    </tr>\n",
       "    <tr>\n",
       "      <th>4</th>\n",
       "      <td>49.21</td>\n",
       "      <td>30.0</td>\n",
       "      <td>54324.73</td>\n",
       "      <td>201.58</td>\n",
       "      <td>Total 5thgeneration standardization</td>\n",
       "      <td>West Richard</td>\n",
       "      <td>Female</td>\n",
       "      <td>Qatar</td>\n",
       "      <td>2016-07-21 10:54:35</td>\n",
       "      <td>1</td>\n",
       "    </tr>\n",
       "  </tbody>\n",
       "</table>\n",
       "</div>"
      ],
      "text/plain": [
       "   Daily Time Spent on Site   Age  Area Income  Daily Internet Usage  \\\n",
       "0                     62.26  32.0     69481.85                172.83   \n",
       "1                     41.73  31.0     61840.26                207.17   \n",
       "2                     44.40  30.0     57877.15                172.83   \n",
       "3                     59.88  28.0     56180.93                207.17   \n",
       "4                     49.21  30.0     54324.73                201.58   \n",
       "\n",
       "                         Ad Topic Line             City  Gender  \\\n",
       "0      Decentralized real-time circuit         Lisafort    Male   \n",
       "1       Optional full-range projection  West Angelabury    Male   \n",
       "2  Total 5thgeneration standardization        Reyesfurt  Female   \n",
       "3          Balanced empowering success      New Michael  Female   \n",
       "4  Total 5thgeneration standardization     West Richard  Female   \n",
       "\n",
       "                        Country            Timestamp  Clicked on Ad  \n",
       "0  Svalbard & Jan Mayen Islands  2016-06-09 21:43:05              0  \n",
       "1                     Singapore  2016-01-16 17:56:05              0  \n",
       "2                    Guadeloupe  2016-06-29 10:50:45              0  \n",
       "3                        Zambia  2016-06-21 14:32:32              0  \n",
       "4                         Qatar  2016-07-21 10:54:35              1  "
      ]
     },
     "execution_count": 2,
     "metadata": {},
     "output_type": "execute_result"
    }
   ],
   "source": [
    "df.head()"
   ]
  },
  {
   "cell_type": "markdown",
   "metadata": {},
   "source": [
    "### Check Null Value"
   ]
  },
  {
   "cell_type": "code",
   "execution_count": 3,
   "metadata": {},
   "outputs": [
    {
     "data": {
      "text/plain": [
       "0"
      ]
     },
     "execution_count": 3,
     "metadata": {},
     "output_type": "execute_result"
    }
   ],
   "source": [
    "df.isnull().sum().sum()"
   ]
  },
  {
   "cell_type": "markdown",
   "metadata": {},
   "source": [
    "Lucky, data hasn't null value"
   ]
  },
  {
   "cell_type": "markdown",
   "metadata": {},
   "source": [
    "### Check type columns"
   ]
  },
  {
   "cell_type": "code",
   "execution_count": 4,
   "metadata": {},
   "outputs": [
    {
     "data": {
      "text/plain": [
       "Index(['Daily Time Spent on Site', 'Age', 'Area Income',\n",
       "       'Daily Internet Usage', 'Ad Topic Line', 'City', 'Gender', 'Country',\n",
       "       'Timestamp', 'Clicked on Ad'],\n",
       "      dtype='object')"
      ]
     },
     "execution_count": 4,
     "metadata": {},
     "output_type": "execute_result"
    }
   ],
   "source": [
    "df.columns"
   ]
  },
  {
   "cell_type": "code",
   "execution_count": 9,
   "metadata": {},
   "outputs": [
    {
     "data": {
      "text/html": [
       "<div>\n",
       "<style scoped>\n",
       "    .dataframe tbody tr th:only-of-type {\n",
       "        vertical-align: middle;\n",
       "    }\n",
       "\n",
       "    .dataframe tbody tr th {\n",
       "        vertical-align: top;\n",
       "    }\n",
       "\n",
       "    .dataframe thead th {\n",
       "        text-align: right;\n",
       "    }\n",
       "</style>\n",
       "<table border=\"1\" class=\"dataframe\">\n",
       "  <thead>\n",
       "    <tr style=\"text-align: right;\">\n",
       "      <th></th>\n",
       "      <th>Daily Time Spent on Site</th>\n",
       "      <th>Age</th>\n",
       "      <th>Area Income</th>\n",
       "      <th>Daily Internet Usage</th>\n",
       "      <th>Clicked on Ad</th>\n",
       "    </tr>\n",
       "  </thead>\n",
       "  <tbody>\n",
       "    <tr>\n",
       "      <th>count</th>\n",
       "      <td>10000.000000</td>\n",
       "      <td>10000.000000</td>\n",
       "      <td>10000.000000</td>\n",
       "      <td>10000.000000</td>\n",
       "      <td>10000.000000</td>\n",
       "    </tr>\n",
       "    <tr>\n",
       "      <th>mean</th>\n",
       "      <td>61.660757</td>\n",
       "      <td>35.940100</td>\n",
       "      <td>53840.047721</td>\n",
       "      <td>177.759831</td>\n",
       "      <td>0.491700</td>\n",
       "    </tr>\n",
       "    <tr>\n",
       "      <th>std</th>\n",
       "      <td>15.704142</td>\n",
       "      <td>8.572973</td>\n",
       "      <td>13343.708718</td>\n",
       "      <td>40.820951</td>\n",
       "      <td>0.499956</td>\n",
       "    </tr>\n",
       "    <tr>\n",
       "      <th>min</th>\n",
       "      <td>32.600000</td>\n",
       "      <td>19.000000</td>\n",
       "      <td>13996.500000</td>\n",
       "      <td>105.220000</td>\n",
       "      <td>0.000000</td>\n",
       "    </tr>\n",
       "    <tr>\n",
       "      <th>25%</th>\n",
       "      <td>48.860000</td>\n",
       "      <td>29.000000</td>\n",
       "      <td>44052.302500</td>\n",
       "      <td>140.150000</td>\n",
       "      <td>0.000000</td>\n",
       "    </tr>\n",
       "    <tr>\n",
       "      <th>50%</th>\n",
       "      <td>59.590000</td>\n",
       "      <td>35.000000</td>\n",
       "      <td>56180.930000</td>\n",
       "      <td>178.920000</td>\n",
       "      <td>0.000000</td>\n",
       "    </tr>\n",
       "    <tr>\n",
       "      <th>75%</th>\n",
       "      <td>76.580000</td>\n",
       "      <td>42.000000</td>\n",
       "      <td>61840.260000</td>\n",
       "      <td>212.670000</td>\n",
       "      <td>1.000000</td>\n",
       "    </tr>\n",
       "    <tr>\n",
       "      <th>max</th>\n",
       "      <td>90.970000</td>\n",
       "      <td>60.000000</td>\n",
       "      <td>79332.330000</td>\n",
       "      <td>269.960000</td>\n",
       "      <td>1.000000</td>\n",
       "    </tr>\n",
       "  </tbody>\n",
       "</table>\n",
       "</div>"
      ],
      "text/plain": [
       "       Daily Time Spent on Site           Age   Area Income  \\\n",
       "count              10000.000000  10000.000000  10000.000000   \n",
       "mean                  61.660757     35.940100  53840.047721   \n",
       "std                   15.704142      8.572973  13343.708718   \n",
       "min                   32.600000     19.000000  13996.500000   \n",
       "25%                   48.860000     29.000000  44052.302500   \n",
       "50%                   59.590000     35.000000  56180.930000   \n",
       "75%                   76.580000     42.000000  61840.260000   \n",
       "max                   90.970000     60.000000  79332.330000   \n",
       "\n",
       "       Daily Internet Usage  Clicked on Ad  \n",
       "count          10000.000000   10000.000000  \n",
       "mean             177.759831       0.491700  \n",
       "std               40.820951       0.499956  \n",
       "min              105.220000       0.000000  \n",
       "25%              140.150000       0.000000  \n",
       "50%              178.920000       0.000000  \n",
       "75%              212.670000       1.000000  \n",
       "max              269.960000       1.000000  "
      ]
     },
     "execution_count": 9,
     "metadata": {},
     "output_type": "execute_result"
    }
   ],
   "source": [
    "df.describe()"
   ]
  },
  {
   "cell_type": "code",
   "execution_count": 11,
   "metadata": {},
   "outputs": [
    {
     "data": {
      "text/plain": [
       "Daily Time Spent on Site    float64\n",
       "Age                         float64\n",
       "Area Income                 float64\n",
       "Daily Internet Usage        float64\n",
       "Ad Topic Line                object\n",
       "City                         object\n",
       "Gender                       object\n",
       "Country                      object\n",
       "Timestamp                    object\n",
       "Clicked on Ad                 int64\n",
       "dtype: object"
      ]
     },
     "execution_count": 11,
     "metadata": {},
     "output_type": "execute_result"
    }
   ],
   "source": [
    "df.dtypes"
   ]
  },
  {
   "cell_type": "markdown",
   "metadata": {},
   "source": [
    "### Encoder"
   ]
  },
  {
   "cell_type": "code",
   "execution_count": 12,
   "metadata": {},
   "outputs": [
    {
     "data": {
      "text/plain": [
       "array(['Male', 'Female'], dtype=object)"
      ]
     },
     "execution_count": 12,
     "metadata": {},
     "output_type": "execute_result"
    }
   ],
   "source": [
    "df['Gender'].unique()"
   ]
  },
  {
   "cell_type": "code",
   "execution_count": 13,
   "metadata": {},
   "outputs": [
    {
     "name": "stdout",
     "output_type": "stream",
     "text": [
      "Original labels: 0         Male\n",
      "1         Male\n",
      "2       Female\n",
      "3       Female\n",
      "4       Female\n",
      "         ...  \n",
      "9995      Male\n",
      "9996      Male\n",
      "9997    Female\n",
      "9998    Female\n",
      "9999      Male\n",
      "Name: Gender, Length: 10000, dtype: object\n",
      "Encoded labels: 0       1\n",
      "1       1\n",
      "2       0\n",
      "3       0\n",
      "4       0\n",
      "       ..\n",
      "9995    1\n",
      "9996    1\n",
      "9997    0\n",
      "9998    0\n",
      "9999    1\n",
      "Name: Gender_Encoder, Length: 10000, dtype: int64\n"
     ]
    }
   ],
   "source": [
    "from sklearn.preprocessing import LabelEncoder\n",
    "gender_le = LabelEncoder()\n",
    "\n",
    "\n",
    "df['Gender_Encoder'] = gender_le.fit_transform(df['Gender'])\n",
    "\n",
    "# In ra kết quả mã hóa\n",
    "print(\"Original labels:\", df['Gender'])\n",
    "print(\"Encoded labels:\", df['Gender_Encoder'])\n",
    "\n"
   ]
  },
  {
   "cell_type": "code",
   "execution_count": 21,
   "metadata": {},
   "outputs": [
    {
     "name": "stderr",
     "output_type": "stream",
     "text": [
      "/var/folders/wq/dl5c5pz97dd5x6t_hwxqwn240000gn/T/ipykernel_10381/1059416516.py:9: FutureWarning: \n",
      "\n",
      "Passing `palette` without assigning `hue` is deprecated and will be removed in v0.14.0. Assign the `y` variable to `hue` and set `legend=False` for the same effect.\n",
      "\n",
      "  sns.barplot(y=top_cities.index, x=top_cities.values, palette='viridis')\n"
     ]
    },
    {
     "data": {
      "image/png": "[encoded data removed]",
      "text/plain": [
       "<Figure size 1000x600 with 1 Axes>"
      ]
     },
     "metadata": {},
     "output_type": "display_data"
    }
   ],
   "source": [
    "import matplotlib.pyplot as plt\n",
    "import seaborn as sns\n",
    "\n",
    "# Tính số lượng xuất hiện của mỗi thành phố và lấy top 5 thành phố phổ biến nhất\n",
    "top_cities = df['City'].value_counts().head(5)\n",
    "\n",
    "# Vẽ biểu đồ cho top 5 thành phố\n",
    "plt.figure(figsize=(10, 6))\n",
    "sns.barplot(y=top_cities.index, x=top_cities.values, palette='viridis')\n",
    "plt.title('Top 5 Cities by Count')\n",
    "plt.xlabel('Count')\n",
    "plt.ylabel('City')\n",
    "plt.show()"
   ]
  }
 ],
 "metadata": {
  "kernelspec": {
   "display_name": "Python 3",
   "language": "python",
   "name": "python3"
  },
  "language_info": {
   "codemirror_mode": {
    "name": "ipython",
    "version": 3
   },
   "file_extension": ".py",
   "mimetype": "text/x-python",
   "name": "python",
   "nbconvert_exporter": "python",
   "pygments_lexer": "ipython3",
   "version": "3.12.3"
  }
 },
 "nbformat": 4,
 "nbformat_minor": 2
}
